{
 "cells": [
  {
   "cell_type": "code",
   "execution_count": 7,
   "id": "427bd8b7",
   "metadata": {},
   "outputs": [],
   "source": [
    "import math"
   ]
  },
  {
   "cell_type": "code",
   "execution_count": 8,
   "id": "e5daa9b3",
   "metadata": {},
   "outputs": [
    {
     "name": "stdout",
     "output_type": "stream",
     "text": [
      "2 5\n",
      "{'S': 10}\n"
     ]
    }
   ],
   "source": [
    "b = input().split()\n",
    "a = []\n",
    "res = 0\n",
    "for i in range(0, len(b)):\n",
    "    a.append(int(b[i]))\n",
    "if len(a) == 3:\n",
    "    p = (a[0] + a[1] + a[2])/2\n",
    "    res = (p*(p-a[0])*(p-a[1])*(p-a[2]))**0.5\n",
    "elif len(a) == 2:\n",
    "    res = a[0] * a[1]\n",
    "else:\n",
    "    res = 2*math.pi*math.pow(a[0], 2)\n",
    "print({\"S\": res})"
   ]
  },
  {
   "cell_type": "code",
   "execution_count": 10,
   "id": "4becfd5c",
   "metadata": {},
   "outputs": [
    {
     "name": "stdout",
     "output_type": "stream",
     "text": [
      "2 abs 7\n",
      "5\n"
     ]
    }
   ],
   "source": [
    "a = input().split()\n",
    "match a[1]:\n",
    "    case \"+\":\n",
    "        print(int(a[0]) + int(a[2]))\n",
    "    case \"-\":\n",
    "        print(int(a[0]) - int(a[2]))\n",
    "    case \"/\":\n",
    "        print(int(a[0]) / int(a[2]))\n",
    "    case \"//\":\n",
    "        print(int(a[0]) // int(a[2]))\n",
    "    case \"abs\":\n",
    "        print(abs(int(a[0]) - int(a[2])))\n",
    "    case \"pow\":\n",
    "        print(int(a[0]) ** int(a[2]))"
   ]
  },
  {
   "cell_type": "code",
   "execution_count": 20,
   "id": "3bd7fa08",
   "metadata": {},
   "outputs": [
    {
     "name": "stdout",
     "output_type": "stream",
     "text": [
      "3\n",
      "6\n",
      "7\n",
      "3\n",
      "4\n",
      "0\n",
      "181\n"
     ]
    }
   ],
   "source": [
    "a = []\n",
    "res\n",
    "while True:\n",
    "    b = int(input())\n",
    "    if(b == 0):\n",
    "        break\n",
    "    a.append(b)\n",
    "for i in range(0, len(a)):\n",
    "    res += a[i]**2\n",
    "print(res)"
   ]
  },
  {
   "cell_type": "markdown",
   "id": "ae3b656e",
   "metadata": {},
   "source": [
    "## "
   ]
  },
  {
   "cell_type": "code",
   "execution_count": 27,
   "id": "f7143aa3",
   "metadata": {},
   "outputs": [
    {
     "name": "stdout",
     "output_type": "stream",
     "text": [
      "8\n",
      "1 2 2 3 3 3 4 4\n"
     ]
    }
   ],
   "source": [
    "N = int(input())\n",
    "res = []\n",
    "for i in range(1, N):\n",
    "    if len(res) == N:\n",
    "            break\n",
    "    for j in range(0, i):\n",
    "        res.append(i)\n",
    "        if len(res) == N:\n",
    "            break\n",
    "print(*res)"
   ]
  },
  {
   "cell_type": "code",
   "execution_count": 3,
   "id": "1c387ce9",
   "metadata": {},
   "outputs": [
    {
     "name": "stdout",
     "output_type": "stream",
     "text": [
      "{'a': 16, 'b': 11, 'c': 18}\n"
     ]
    }
   ],
   "source": [
    "def func(A, B, C):\n",
    "    D = 0\n",
    "    for i in range(0, len(B)-1):\n",
    "        if(B[i] == C):\n",
    "            D += A[i]\n",
    "    return D\n",
    "\n",
    "A = [1, 2, 3, 4, 2, 1, 3, 4, 5, 6, 5, 4, 3, 2]\n",
    "B = ['a', 'b', 'c', 'c', 'c', 'c', 'b', 'a', 'c', 'a', 'a', 'b', 'c', 'b', 'a']\n",
    "print({B[0]: func(A, B, B[0]), B[1]: func(A, B, B[1]), B[2]: func(A, B, B[2])})"
   ]
  },
  {
   "cell_type": "code",
   "execution_count": 5,
   "id": "453c8db4",
   "metadata": {},
   "outputs": [
    {
     "name": "stdout",
     "output_type": "stream",
     "text": [
      "{'data':        MedInc  HouseAge  AveRooms  AveBedrms  Population  AveOccup  Latitude  \\\n",
      "0      8.3252      41.0  6.984127   1.023810       322.0  2.555556     37.88   \n",
      "1      8.3014      21.0  6.238137   0.971880      2401.0  2.109842     37.86   \n",
      "2      7.2574      52.0  8.288136   1.073446       496.0  2.802260     37.85   \n",
      "3      5.6431      52.0  5.817352   1.073059       558.0  2.547945     37.85   \n",
      "4      3.8462      52.0  6.281853   1.081081       565.0  2.181467     37.85   \n",
      "...       ...       ...       ...        ...         ...       ...       ...   \n",
      "20635  1.5603      25.0  5.045455   1.133333       845.0  2.560606     39.48   \n",
      "20636  2.5568      18.0  6.114035   1.315789       356.0  3.122807     39.49   \n",
      "20637  1.7000      17.0  5.205543   1.120092      1007.0  2.325635     39.43   \n",
      "20638  1.8672      18.0  5.329513   1.171920       741.0  2.123209     39.43   \n",
      "20639  2.3886      16.0  5.254717   1.162264      1387.0  2.616981     39.37   \n",
      "\n",
      "       Longitude  \n",
      "0        -122.23  \n",
      "1        -122.22  \n",
      "2        -122.24  \n",
      "3        -122.25  \n",
      "4        -122.25  \n",
      "...          ...  \n",
      "20635    -121.09  \n",
      "20636    -121.21  \n",
      "20637    -121.22  \n",
      "20638    -121.32  \n",
      "20639    -121.24  \n",
      "\n",
      "[20640 rows x 8 columns], 'target': 0        4.526\n",
      "1        3.585\n",
      "2        3.521\n",
      "3        3.413\n",
      "4        3.422\n",
      "         ...  \n",
      "20635    0.781\n",
      "20636    0.771\n",
      "20637    0.923\n",
      "20638    0.847\n",
      "20639    0.894\n",
      "Name: MedHouseVal, Length: 20640, dtype: float64, 'frame':        MedInc  HouseAge  AveRooms  AveBedrms  Population  AveOccup  Latitude  \\\n",
      "0      8.3252      41.0  6.984127   1.023810       322.0  2.555556     37.88   \n",
      "1      8.3014      21.0  6.238137   0.971880      2401.0  2.109842     37.86   \n",
      "2      7.2574      52.0  8.288136   1.073446       496.0  2.802260     37.85   \n",
      "3      5.6431      52.0  5.817352   1.073059       558.0  2.547945     37.85   \n",
      "4      3.8462      52.0  6.281853   1.081081       565.0  2.181467     37.85   \n",
      "...       ...       ...       ...        ...         ...       ...       ...   \n",
      "20635  1.5603      25.0  5.045455   1.133333       845.0  2.560606     39.48   \n",
      "20636  2.5568      18.0  6.114035   1.315789       356.0  3.122807     39.49   \n",
      "20637  1.7000      17.0  5.205543   1.120092      1007.0  2.325635     39.43   \n",
      "20638  1.8672      18.0  5.329513   1.171920       741.0  2.123209     39.43   \n",
      "20639  2.3886      16.0  5.254717   1.162264      1387.0  2.616981     39.37   \n",
      "\n",
      "       Longitude  MedHouseVal  \n",
      "0        -122.23        4.526  \n",
      "1        -122.22        3.585  \n",
      "2        -122.24        3.521  \n",
      "3        -122.25        3.413  \n",
      "4        -122.25        3.422  \n",
      "...          ...          ...  \n",
      "20635    -121.09        0.781  \n",
      "20636    -121.21        0.771  \n",
      "20637    -121.22        0.923  \n",
      "20638    -121.32        0.847  \n",
      "20639    -121.24        0.894  \n",
      "\n",
      "[20640 rows x 9 columns], 'target_names': ['MedHouseVal'], 'feature_names': ['MedInc', 'HouseAge', 'AveRooms', 'AveBedrms', 'Population', 'AveOccup', 'Latitude', 'Longitude'], 'DESCR': '.. _california_housing_dataset:\\n\\nCalifornia Housing dataset\\n--------------------------\\n\\n**Data Set Characteristics:**\\n\\n    :Number of Instances: 20640\\n\\n    :Number of Attributes: 8 numeric, predictive attributes and the target\\n\\n    :Attribute Information:\\n        - MedInc        median income in block group\\n        - HouseAge      median house age in block group\\n        - AveRooms      average number of rooms per household\\n        - AveBedrms     average number of bedrooms per household\\n        - Population    block group population\\n        - AveOccup      average number of household members\\n        - Latitude      block group latitude\\n        - Longitude     block group longitude\\n\\n    :Missing Attribute Values: None\\n\\nThis dataset was obtained from the StatLib repository.\\nhttps://www.dcc.fc.up.pt/~ltorgo/Regression/cal_housing.html\\n\\nThe target variable is the median house value for California districts,\\nexpressed in hundreds of thousands of dollars ($100,000).\\n\\nThis dataset was derived from the 1990 U.S. census, using one row per census\\nblock group. A block group is the smallest geographical unit for which the U.S.\\nCensus Bureau publishes sample data (a block group typically has a population\\nof 600 to 3,000 people).\\n\\nA household is a group of people residing within a home. Since the average\\nnumber of rooms and bedrooms in this dataset are provided per household, these\\ncolumns may take surprisingly large values for block groups with few households\\nand many empty houses, such as vacation resorts.\\n\\nIt can be downloaded/loaded using the\\n:func:`sklearn.datasets.fetch_california_housing` function.\\n\\n.. topic:: References\\n\\n    - Pace, R. Kelley and Ronald Barry, Sparse Spatial Autoregressions,\\n      Statistics and Probability Letters, 33 (1997) 291-297\\n'}\n"
     ]
    }
   ],
   "source": [
    "from sklearn.datasets import fetch_california_housing\n",
    "data = fetch_california_housing(as_frame=True)\n",
    "print(data)"
   ]
  },
  {
   "cell_type": "code",
   "execution_count": 6,
   "id": "811269f9",
   "metadata": {},
   "outputs": [
    {
     "name": "stdout",
     "output_type": "stream",
     "text": [
      "<class 'pandas.core.frame.DataFrame'>\n",
      "RangeIndex: 20640 entries, 0 to 20639\n",
      "Data columns (total 9 columns):\n",
      " #   Column       Non-Null Count  Dtype  \n",
      "---  ------       --------------  -----  \n",
      " 0   MedInc       20640 non-null  float64\n",
      " 1   HouseAge     20640 non-null  float64\n",
      " 2   AveRooms     20640 non-null  float64\n",
      " 3   AveBedrms    20640 non-null  float64\n",
      " 4   Population   20640 non-null  float64\n",
      " 5   AveOccup     20640 non-null  float64\n",
      " 6   Latitude     20640 non-null  float64\n",
      " 7   Longitude    20640 non-null  float64\n",
      " 8   MedHouseVal  20640 non-null  float64\n",
      "dtypes: float64(9)\n",
      "memory usage: 1.4 MB\n"
     ]
    }
   ],
   "source": [
    "import pandas as pd\n",
    "from sklearn.datasets import fetch_california_housing\n",
    "data = fetch_california_housing(as_frame=True)\n",
    "dataFrame = data.frame\n",
    "dataFrame.info()"
   ]
  },
  {
   "cell_type": "code",
   "execution_count": 7,
   "id": "7094f8d5",
   "metadata": {},
   "outputs": [
    {
     "data": {
      "text/plain": [
       "MedInc         0\n",
       "HouseAge       0\n",
       "AveRooms       0\n",
       "AveBedrms      0\n",
       "Population     0\n",
       "AveOccup       0\n",
       "Latitude       0\n",
       "Longitude      0\n",
       "MedHouseVal    0\n",
       "dtype: int64"
      ]
     },
     "execution_count": 7,
     "metadata": {},
     "output_type": "execute_result"
    }
   ],
   "source": [
    "dataFrame.isna().sum()"
   ]
  },
  {
   "cell_type": "code",
   "execution_count": 49,
   "id": "e38315e9",
   "metadata": {},
   "outputs": [
    {
     "data": {
      "text/html": [
       "<div>\n",
       "<style scoped>\n",
       "    .dataframe tbody tr th:only-of-type {\n",
       "        vertical-align: middle;\n",
       "    }\n",
       "\n",
       "    .dataframe tbody tr th {\n",
       "        vertical-align: top;\n",
       "    }\n",
       "\n",
       "    .dataframe thead th {\n",
       "        text-align: right;\n",
       "    }\n",
       "</style>\n",
       "<table border=\"1\" class=\"dataframe\">\n",
       "  <thead>\n",
       "    <tr style=\"text-align: right;\">\n",
       "      <th></th>\n",
       "      <th>MedInc</th>\n",
       "      <th>HouseAge</th>\n",
       "      <th>AveRooms</th>\n",
       "      <th>AveBedrms</th>\n",
       "      <th>Population</th>\n",
       "      <th>AveOccup</th>\n",
       "      <th>Latitude</th>\n",
       "      <th>Longitude</th>\n",
       "      <th>MedHouseVal</th>\n",
       "    </tr>\n",
       "  </thead>\n",
       "  <tbody>\n",
       "    <tr>\n",
       "      <th>460</th>\n",
       "      <td>1.4012</td>\n",
       "      <td>52.0</td>\n",
       "      <td>3.105714</td>\n",
       "      <td>1.060000</td>\n",
       "      <td>3337.0</td>\n",
       "      <td>9.534286</td>\n",
       "      <td>37.87</td>\n",
       "      <td>-122.26</td>\n",
       "      <td>1.75000</td>\n",
       "    </tr>\n",
       "    <tr>\n",
       "      <th>4131</th>\n",
       "      <td>3.5349</td>\n",
       "      <td>52.0</td>\n",
       "      <td>4.646119</td>\n",
       "      <td>1.047945</td>\n",
       "      <td>2589.0</td>\n",
       "      <td>5.910959</td>\n",
       "      <td>34.13</td>\n",
       "      <td>-118.20</td>\n",
       "      <td>1.93600</td>\n",
       "    </tr>\n",
       "    <tr>\n",
       "      <th>4440</th>\n",
       "      <td>2.6806</td>\n",
       "      <td>52.0</td>\n",
       "      <td>4.806283</td>\n",
       "      <td>1.057592</td>\n",
       "      <td>3062.0</td>\n",
       "      <td>4.007853</td>\n",
       "      <td>34.08</td>\n",
       "      <td>-118.21</td>\n",
       "      <td>1.53000</td>\n",
       "    </tr>\n",
       "    <tr>\n",
       "      <th>5986</th>\n",
       "      <td>1.8750</td>\n",
       "      <td>52.0</td>\n",
       "      <td>4.500000</td>\n",
       "      <td>1.206349</td>\n",
       "      <td>2688.0</td>\n",
       "      <td>21.333333</td>\n",
       "      <td>34.10</td>\n",
       "      <td>-117.71</td>\n",
       "      <td>2.12500</td>\n",
       "    </tr>\n",
       "    <tr>\n",
       "      <th>7369</th>\n",
       "      <td>3.1901</td>\n",
       "      <td>52.0</td>\n",
       "      <td>4.730942</td>\n",
       "      <td>1.017937</td>\n",
       "      <td>3731.0</td>\n",
       "      <td>4.182735</td>\n",
       "      <td>33.97</td>\n",
       "      <td>-118.21</td>\n",
       "      <td>1.67600</td>\n",
       "    </tr>\n",
       "    <tr>\n",
       "      <th>8227</th>\n",
       "      <td>2.3305</td>\n",
       "      <td>52.0</td>\n",
       "      <td>3.488860</td>\n",
       "      <td>1.170380</td>\n",
       "      <td>3018.0</td>\n",
       "      <td>3.955439</td>\n",
       "      <td>33.78</td>\n",
       "      <td>-118.20</td>\n",
       "      <td>1.62500</td>\n",
       "    </tr>\n",
       "    <tr>\n",
       "      <th>13034</th>\n",
       "      <td>6.1359</td>\n",
       "      <td>52.0</td>\n",
       "      <td>8.275862</td>\n",
       "      <td>1.517241</td>\n",
       "      <td>6675.0</td>\n",
       "      <td>230.172414</td>\n",
       "      <td>38.69</td>\n",
       "      <td>-121.15</td>\n",
       "      <td>2.25000</td>\n",
       "    </tr>\n",
       "    <tr>\n",
       "      <th>15634</th>\n",
       "      <td>1.8295</td>\n",
       "      <td>52.0</td>\n",
       "      <td>2.628169</td>\n",
       "      <td>1.053521</td>\n",
       "      <td>2957.0</td>\n",
       "      <td>4.164789</td>\n",
       "      <td>37.80</td>\n",
       "      <td>-122.41</td>\n",
       "      <td>2.43800</td>\n",
       "    </tr>\n",
       "    <tr>\n",
       "      <th>15652</th>\n",
       "      <td>0.9000</td>\n",
       "      <td>52.0</td>\n",
       "      <td>2.237474</td>\n",
       "      <td>1.053535</td>\n",
       "      <td>3260.0</td>\n",
       "      <td>2.237474</td>\n",
       "      <td>37.80</td>\n",
       "      <td>-122.41</td>\n",
       "      <td>5.00001</td>\n",
       "    </tr>\n",
       "    <tr>\n",
       "      <th>15657</th>\n",
       "      <td>2.5166</td>\n",
       "      <td>52.0</td>\n",
       "      <td>2.839075</td>\n",
       "      <td>1.184049</td>\n",
       "      <td>3436.0</td>\n",
       "      <td>1.621520</td>\n",
       "      <td>37.79</td>\n",
       "      <td>-122.41</td>\n",
       "      <td>2.75000</td>\n",
       "    </tr>\n",
       "    <tr>\n",
       "      <th>15659</th>\n",
       "      <td>1.7240</td>\n",
       "      <td>52.0</td>\n",
       "      <td>2.278566</td>\n",
       "      <td>1.082348</td>\n",
       "      <td>4518.0</td>\n",
       "      <td>1.780142</td>\n",
       "      <td>37.79</td>\n",
       "      <td>-122.41</td>\n",
       "      <td>2.25000</td>\n",
       "    </tr>\n",
       "    <tr>\n",
       "      <th>15795</th>\n",
       "      <td>2.5755</td>\n",
       "      <td>52.0</td>\n",
       "      <td>3.402576</td>\n",
       "      <td>1.058776</td>\n",
       "      <td>2619.0</td>\n",
       "      <td>2.108696</td>\n",
       "      <td>37.77</td>\n",
       "      <td>-122.42</td>\n",
       "      <td>3.25000</td>\n",
       "    </tr>\n",
       "    <tr>\n",
       "      <th>15868</th>\n",
       "      <td>2.8135</td>\n",
       "      <td>52.0</td>\n",
       "      <td>4.584329</td>\n",
       "      <td>1.041169</td>\n",
       "      <td>2987.0</td>\n",
       "      <td>3.966799</td>\n",
       "      <td>37.76</td>\n",
       "      <td>-122.41</td>\n",
       "      <td>2.60300</td>\n",
       "    </tr>\n",
       "  </tbody>\n",
       "</table>\n",
       "</div>"
      ],
      "text/plain": [
       "       MedInc  HouseAge  AveRooms  AveBedrms  Population    AveOccup  \\\n",
       "460    1.4012      52.0  3.105714   1.060000      3337.0    9.534286   \n",
       "4131   3.5349      52.0  4.646119   1.047945      2589.0    5.910959   \n",
       "4440   2.6806      52.0  4.806283   1.057592      3062.0    4.007853   \n",
       "5986   1.8750      52.0  4.500000   1.206349      2688.0   21.333333   \n",
       "7369   3.1901      52.0  4.730942   1.017937      3731.0    4.182735   \n",
       "8227   2.3305      52.0  3.488860   1.170380      3018.0    3.955439   \n",
       "13034  6.1359      52.0  8.275862   1.517241      6675.0  230.172414   \n",
       "15634  1.8295      52.0  2.628169   1.053521      2957.0    4.164789   \n",
       "15652  0.9000      52.0  2.237474   1.053535      3260.0    2.237474   \n",
       "15657  2.5166      52.0  2.839075   1.184049      3436.0    1.621520   \n",
       "15659  1.7240      52.0  2.278566   1.082348      4518.0    1.780142   \n",
       "15795  2.5755      52.0  3.402576   1.058776      2619.0    2.108696   \n",
       "15868  2.8135      52.0  4.584329   1.041169      2987.0    3.966799   \n",
       "\n",
       "       Latitude  Longitude  MedHouseVal  \n",
       "460       37.87    -122.26      1.75000  \n",
       "4131      34.13    -118.20      1.93600  \n",
       "4440      34.08    -118.21      1.53000  \n",
       "5986      34.10    -117.71      2.12500  \n",
       "7369      33.97    -118.21      1.67600  \n",
       "8227      33.78    -118.20      1.62500  \n",
       "13034     38.69    -121.15      2.25000  \n",
       "15634     37.80    -122.41      2.43800  \n",
       "15652     37.80    -122.41      5.00001  \n",
       "15657     37.79    -122.41      2.75000  \n",
       "15659     37.79    -122.41      2.25000  \n",
       "15795     37.77    -122.42      3.25000  \n",
       "15868     37.76    -122.41      2.60300  "
      ]
     },
     "execution_count": 49,
     "metadata": {},
     "output_type": "execute_result"
    }
   ],
   "source": [
    "dataFrame.loc[(dataFrame.HouseAge > 50) & (dataFrame.Population > 2500)]"
   ]
  },
  {
   "cell_type": "code",
   "execution_count": 56,
   "id": "7679f027",
   "metadata": {},
   "outputs": [
    {
     "name": "stdout",
     "output_type": "stream",
     "text": [
      "5.00001 0.14999\n"
     ]
    }
   ],
   "source": [
    "print(dataFrame.MedHouseVal.max(), dataFrame.MedHouseVal.min())"
   ]
  },
  {
   "cell_type": "code",
   "execution_count": 59,
   "id": "a7854972",
   "metadata": {},
   "outputs": [
    {
     "name": "stdout",
     "output_type": "stream",
     "text": [
      "MedInc            3.870671\n",
      "HouseAge         28.639486\n",
      "AveRooms          5.429000\n",
      "AveBedrms         1.096675\n",
      "Population     1425.476744\n",
      "AveOccup          3.070655\n",
      "Latitude         35.631861\n",
      "Longitude      -119.569704\n",
      "MedHouseVal       2.068558\n",
      "dtype: float64\n"
     ]
    }
   ],
   "source": [
    "def datAvg(x):\n",
    "    return x.mean()\n",
    "dt = dataFrame.apply(datAvg, axis = 0)\n",
    "print(dt)"
   ]
  },
  {
   "cell_type": "code",
   "execution_count": 86,
   "id": "4488d2ba",
   "metadata": {},
   "outputs": [
    {
     "name": "stdout",
     "output_type": "stream",
     "text": [
      "Ignition sequence start\n",
      ".. --. -. .. - .. --- -. \n",
      "\n",
      "… . --.- ..- . -. -.-. . \n",
      "\n",
      "… - .- .-. - \n",
      "\n"
     ]
    }
   ],
   "source": [
    "morze = {'a': '.-', 'b': '-…', 'c': '-.-.', 'd': '-..',\n",
    "'e': '.', 'f': '..-.', 'g': '--.', 'h': '….',\n",
    "'i': '..', 'j': '.---', 'k': '-.-', 'l': '.-..',\n",
    "'m': '--', 'n': '-.', 'o': '---', 'p': '.--.',\n",
    "'q': '--.-', 'r': '.-.', 's': '…', 't': '-',\n",
    "'u': '..-', 'v': '…-', 'w': '.--', 'x': '-..-',\n",
    "'y': '-.--', 'z': '--..'}\n",
    "\n",
    "def combiner(B):\n",
    "    res = ''\n",
    "    for i in B:\n",
    "        res += i + \" \"\n",
    "    return res\n",
    "        \n",
    "a = input().split()\n",
    "c = []\n",
    "for i in range(0, len(a)):\n",
    "    d = list(a[i])\n",
    "    b = []\n",
    "    for j in d:\n",
    "        b.append(morze.get(j.lower()))\n",
    "    c.append(combiner(b))\n",
    "for i in range(0, len(c)):\n",
    "    print(c[i] + '\\n')"
   ]
  },
  {
   "cell_type": "code",
   "execution_count": 99,
   "id": "d9eb901d",
   "metadata": {},
   "outputs": [
    {
     "name": "stdout",
     "output_type": "stream",
     "text": [
      "10\n",
      "bhnqaptmp\n",
      "OK\n",
      "bhnqaptmp\n",
      "bhnqaptmp1\n",
      "fpqhfouqdldravpjttarh\n",
      "OK\n",
      "fpqhfouqdldravpjttarh\n",
      "fpqhfouqdldravpjttarh1\n",
      "fpqhfouqdldravpjttarh\n",
      "fpqhfouqdldravpjttarh2\n",
      "jmvlplnrmba\n",
      "OK\n",
      "jmvlplnrmba\n",
      "jmvlplnrmba1\n",
      "jmvlplnrmba\n",
      "jmvlplnrmba2\n",
      "jmvlplnrmba\n",
      "jmvlplnrmba3\n",
      "jmvlplnrmba\n",
      "jmvlplnrmba4\n",
      "['bhnqaptmp', 'bhnqaptmp1', 'fpqhfouqdldravpjttarh', 'fpqhfouqdldravpjttarh1', 'fpqhfouqdldravpjttarh2', 'jmvlplnrmba', 'jmvlplnrmba1', 'jmvlplnrmba2', 'jmvlplnrmba3', 'jmvlplnrmba4']\n"
     ]
    }
   ],
   "source": [
    "def checkKey(dic, key):\n",
    "    if key in dic.keys():\n",
    "        return True\n",
    "    else:\n",
    "        return False\n",
    "\n",
    "a = {}\n",
    "N = int(input())\n",
    "users = []\n",
    "for i in range(0, N):\n",
    "    b = input()\n",
    "    if not checkKey(a, b):\n",
    "        print('OK')\n",
    "        a[b] = 0\n",
    "        users.append(b)\n",
    "    else:\n",
    "        a[b] += 1\n",
    "        users.append(b+str(a[b]))\n",
    "        print(b+str(a[b]))\n",
    "print(users)"
   ]
  },
  {
   "cell_type": "code",
   "execution_count": 1,
   "id": "67eba136",
   "metadata": {},
   "outputs": [
    {
     "name": "stdout",
     "output_type": "stream",
     "text": [
      "1\n",
      "login.txt w r\n",
      "1\n",
      "execute login.txt\n",
      "Access denied\n"
     ]
    }
   ],
   "source": [
    "def contains(commands, access):\n",
    "    for i in range(0, len(commands)):\n",
    "        if commands[i] == access:\n",
    "            return True\n",
    "    return False\n",
    "\n",
    "dict1 = {}\n",
    "N = int(input())\n",
    "for i in range(0, N):\n",
    "    a = input().split()\n",
    "    dict1[a[0]] = []\n",
    "    for i in range(1, len(a)):\n",
    "        dict1[a[0]].append(a[i])\n",
    "N = int(input())\n",
    "for i in range(0, N):\n",
    "    b = input().split()\n",
    "    if b[0] == 'read':\n",
    "        if contains(dict1[b[1]], 'r'):\n",
    "            print(\"OK\")\n",
    "        else:\n",
    "            print(\"Access denied\")\n",
    "    if b[0] == 'write':\n",
    "        if contains(dict1[b[1]], 'w'):\n",
    "            print(\"OK\")\n",
    "        else:\n",
    "            print(\"Access denied\")\n",
    "    if b[0] == 'execute':\n",
    "        if contains(dict1[b[1]], 'x'):\n",
    "            print(\"OK\")\n",
    "        else:\n",
    "            print(\"Access denied\")"
   ]
  },
  {
   "cell_type": "markdown",
   "id": "6de7f1d4",
   "metadata": {},
   "source": [
    "python.exe x\n"
   ]
  },
  {
   "cell_type": "code",
   "execution_count": null,
   "id": "9c969bb9",
   "metadata": {},
   "outputs": [],
   "source": []
  }
 ],
 "metadata": {
  "kernelspec": {
   "display_name": "Python 3 (ipykernel)",
   "language": "python",
   "name": "python3"
  },
  "language_info": {
   "codemirror_mode": {
    "name": "ipython",
    "version": 3
   },
   "file_extension": ".py",
   "mimetype": "text/x-python",
   "name": "python",
   "nbconvert_exporter": "python",
   "pygments_lexer": "ipython3",
   "version": "3.11.4"
  }
 },
 "nbformat": 4,
 "nbformat_minor": 5
}
